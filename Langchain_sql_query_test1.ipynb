{
  "nbformat": 4,
  "nbformat_minor": 0,
  "metadata": {
    "colab": {
      "provenance": [],
      "toc_visible": true,
      "authorship_tag": "ABX9TyNVDjTt7mpka2liH+QgIItf",
      "include_colab_link": true
    },
    "kernelspec": {
      "name": "python3",
      "display_name": "Python 3"
    },
    "language_info": {
      "name": "python"
    }
  },
  "cells": [
    {
      "cell_type": "markdown",
      "metadata": {
        "id": "view-in-github",
        "colab_type": "text"
      },
      "source": [
        "<a href=\"https://colab.research.google.com/github/kswamy15/langchain_experiments/blob/main/Langchain_sql_query_test1.ipynb\" target=\"_parent\"><img src=\"https://colab.research.google.com/assets/colab-badge.svg\" alt=\"Open In Colab\"/></a>"
      ]
    },
    {
      "cell_type": "markdown",
      "source": [
        "# Install the Libraries"
      ],
      "metadata": {
        "id": "VMtekdhYOMev"
      }
    },
    {
      "cell_type": "code",
      "source": [
        "!pip install langchain langchain_experimental\n",
        "!pip3 install openai"
      ],
      "metadata": {
        "id": "hT_y6T17JeBU"
      },
      "execution_count": null,
      "outputs": []
    },
    {
      "cell_type": "markdown",
      "source": [
        "# Download sample SQlite databases"
      ],
      "metadata": {
        "id": "jalFs37jOk0G"
      }
    },
    {
      "cell_type": "code",
      "execution_count": null,
      "metadata": {
        "colab": {
          "base_uri": "https://localhost:8080/"
        },
        "id": "eaB3HGkOH0w9",
        "outputId": "7693f784-3925-4d61-e85b-ed107f9bc4e9"
      },
      "outputs": [
        {
          "output_type": "stream",
          "name": "stdout",
          "text": [
            "--2023-08-06 18:32:50--  https://tdmdal.github.io/mma-sql-2021/data/northwind.sqlite3\n",
            "Resolving tdmdal.github.io (tdmdal.github.io)... 185.199.109.153, 185.199.108.153, 185.199.111.153, ...\n",
            "Connecting to tdmdal.github.io (tdmdal.github.io)|185.199.109.153|:443... connected.\n",
            "HTTP request sent, awaiting response... 200 OK\n",
            "Length: 804864 (786K) [application/octet-stream]\n",
            "Saving to: ‘northwind.sqlite3’\n",
            "\n",
            "\rnorthwind.sqlite3     0%[                    ]       0  --.-KB/s               \rnorthwind.sqlite3   100%[===================>] 786.00K  --.-KB/s    in 0.009s  \n",
            "\n",
            "2023-08-06 18:32:50 (83.2 MB/s) - ‘northwind.sqlite3’ saved [804864/804864]\n",
            "\n"
          ]
        }
      ],
      "source": [
        "# download Northwind SQLite DB\n",
        "!wget https://tdmdal.github.io/mma-sql-2021/data/northwind.sqlite3"
      ]
    },
    {
      "cell_type": "code",
      "source": [
        "### useful: download and extract chinook sample DB\n",
        "import urllib.request\n",
        "import zipfile\n",
        "from functools import partial\n",
        "import os\n",
        "\n",
        "chinook_url = 'http://www.sqlitetutorial.net/wp-content/uploads/2018/03/chinook.zip'\n",
        "if not os.path.exists('chinook.zip'):\n",
        "    print('downloading chinook.zip ', end='')\n",
        "    with urllib.request.urlopen(chinook_url) as response:\n",
        "        with open('chinook.zip', 'wb') as f:\n",
        "            for data in iter(partial(response.read, 4*1024), b''):\n",
        "                print('.', end='', flush=True)\n",
        "                f.write(data)\n",
        "\n",
        "zipfile.ZipFile('chinook.zip').extractall()\n",
        "assert os.path.exists('chinook.db')"
      ],
      "metadata": {
        "colab": {
          "base_uri": "https://localhost:8080/"
        },
        "id": "m9TMgrztNReg",
        "outputId": "f1ef3466-27f3-4b38-e13d-49925823ba3e"
      },
      "execution_count": null,
      "outputs": [
        {
          "output_type": "stream",
          "name": "stdout",
          "text": [
            "downloading chinook.zip ..........................................................................."
          ]
        }
      ]
    },
    {
      "cell_type": "markdown",
      "source": [
        "# Import the langchain libraries"
      ],
      "metadata": {
        "id": "Lq5Ww2EO8ONG"
      }
    },
    {
      "cell_type": "code",
      "source": [
        "from langchain.llms import OpenAI\n",
        "from langchain.utilities import SQLDatabase\n",
        "from langchain_experimental.sql import SQLDatabaseChain"
      ],
      "metadata": {
        "id": "HgtbBSzfKRBM"
      },
      "execution_count": null,
      "outputs": []
    },
    {
      "cell_type": "code",
      "source": [
        "os.environ[\"OPENAI_API_KEY\"] = \"\""
      ],
      "metadata": {
        "id": "cI-jaB7HN2qJ"
      },
      "execution_count": null,
      "outputs": []
    },
    {
      "cell_type": "markdown",
      "source": [
        "# Initialize the SQL Database Chain"
      ],
      "metadata": {
        "id": "nKCTidXR8VOM"
      }
    },
    {
      "cell_type": "code",
      "source": [
        "db = SQLDatabase.from_uri(\"sqlite:///chinook.db\")\n",
        "llm = OpenAI(temperature=0, verbose=True)"
      ],
      "metadata": {
        "id": "5Sbu-Ip0KMj8"
      },
      "execution_count": null,
      "outputs": []
    },
    {
      "cell_type": "code",
      "source": [
        "#print(db.table_info)"
      ],
      "metadata": {
        "id": "wdP5pgGiWm5U"
      },
      "execution_count": null,
      "outputs": []
    },
    {
      "cell_type": "code",
      "source": [
        "db_chain = SQLDatabaseChain.from_llm(llm, db, verbose=True, use_query_checker=True)"
      ],
      "metadata": {
        "id": "1nGecwa_KbFZ"
      },
      "execution_count": null,
      "outputs": []
    },
    {
      "cell_type": "markdown",
      "source": [
        "# Query OpenAI with questions around the tables in the Database"
      ],
      "metadata": {
        "id": "oIhsP1yD8csB"
      }
    },
    {
      "cell_type": "code",
      "source": [
        "db_chain.run(\"How many albums by Aerosmith?\")"
      ],
      "metadata": {
        "colab": {
          "base_uri": "https://localhost:8080/",
          "height": 174
        },
        "id": "X4vKuI-RWLV8",
        "outputId": "d1b31f58-f233-49a7-bb7e-01d6646a6484"
      },
      "execution_count": null,
      "outputs": [
        {
          "output_type": "stream",
          "name": "stdout",
          "text": [
            "\n",
            "\n",
            "\u001b[1m> Entering new SQLDatabaseChain chain...\u001b[0m\n",
            "How many albums by Aerosmith?\n",
            "SQLQuery:\u001b[32;1m\u001b[1;3mSELECT COUNT(*) FROM albums WHERE \"ArtistId\" IN (SELECT \"ArtistId\" FROM artists WHERE \"Name\" = 'Aerosmith');\u001b[0m\n",
            "SQLResult: \u001b[33;1m\u001b[1;3m[(1,)]\u001b[0m\n",
            "Answer:\u001b[32;1m\u001b[1;3mThere is 1 album by Aerosmith.\u001b[0m\n",
            "\u001b[1m> Finished chain.\u001b[0m\n"
          ]
        },
        {
          "output_type": "execute_result",
          "data": {
            "text/plain": [
              "'There is 1 album by Aerosmith.'"
            ],
            "application/vnd.google.colaboratory.intrinsic+json": {
              "type": "string"
            }
          },
          "metadata": {},
          "execution_count": 36
        }
      ]
    },
    {
      "cell_type": "markdown",
      "source": [
        "# Custom Prompt to make the OpenAI properly structure the query"
      ],
      "metadata": {
        "id": "80kcebEm8nhP"
      }
    },
    {
      "cell_type": "code",
      "source": [
        "from langchain.prompts.prompt import PromptTemplate\n",
        "\n",
        "_DEFAULT_TEMPLATE = \"\"\"Given an input question, first create a syntactically correct {dialect} query to run,\n",
        "all column names in the query should be fully qualified by the table they come from, then look at the results of the query and return the answer.\n",
        "Use the following format:\n",
        "\n",
        "Question: \"Question here\"\n",
        "SQLQuery: \"SQL Query to run\"\n",
        "SQLResult: \"Result of the SQLQuery\"\n",
        "Answer: \"Final answer here\"\n",
        "\n",
        "Only use the following tables:\n",
        "\n",
        "{table_info}\n",
        "\n",
        "Question: {input}\"\"\"\n",
        "PROMPT = PromptTemplate(\n",
        "    input_variables=[\"input\", \"table_info\", \"dialect\"], template=_DEFAULT_TEMPLATE\n",
        ")"
      ],
      "metadata": {
        "id": "PxOPy2BQN_Ew"
      },
      "execution_count": null,
      "outputs": []
    },
    {
      "cell_type": "code",
      "source": [
        "db_chain = SQLDatabaseChain.from_llm(llm, db, prompt=PROMPT, verbose=True, use_query_checker=True)"
      ],
      "metadata": {
        "id": "D3aARinpTztm"
      },
      "execution_count": null,
      "outputs": []
    },
    {
      "cell_type": "code",
      "source": [
        "db_chain.run(\"Who are the top 10 highest selling artists?\")"
      ],
      "metadata": {
        "colab": {
          "base_uri": "https://localhost:8080/",
          "height": 316
        },
        "id": "kXTXK4hWT573",
        "outputId": "fb775e54-560a-4d56-c56a-fff914176939"
      },
      "execution_count": null,
      "outputs": [
        {
          "output_type": "stream",
          "name": "stdout",
          "text": [
            "\n",
            "\n",
            "\u001b[1m> Entering new SQLDatabaseChain chain...\u001b[0m\n",
            "Who are the top 10 highest selling artists?\n",
            "SQLQuery:\u001b[32;1m\u001b[1;3mSELECT artists.Name, SUM(invoice_items.Quantity) AS TotalSales\n",
            "FROM artists\n",
            "INNER JOIN albums ON albums.ArtistId = artists.ArtistId\n",
            "INNER JOIN tracks ON tracks.AlbumId = albums.AlbumId\n",
            "INNER JOIN invoice_items ON invoice_items.TrackId = tracks.TrackId\n",
            "GROUP BY artists.Name\n",
            "ORDER BY TotalSales DESC\n",
            "LIMIT 10;\u001b[0m\n",
            "SQLResult: \u001b[33;1m\u001b[1;3m[('Iron Maiden', 140), ('U2', 107), ('Metallica', 91), ('Led Zeppelin', 87), ('Os Paralamas Do Sucesso', 45), ('Deep Purple', 44), ('Faith No More', 42), ('Lost', 41), ('Eric Clapton', 40), ('R.E.M.', 39)]\u001b[0m\n",
            "Answer:\u001b[32;1m\u001b[1;3mThe top 10 highest selling artists are Iron Maiden, U2, Metallica, Led Zeppelin, Os Paralamas Do Sucesso, Deep Purple, Faith No More, Lost, Eric Clapton, and R.E.M.\u001b[0m\n",
            "\u001b[1m> Finished chain.\u001b[0m\n"
          ]
        },
        {
          "output_type": "execute_result",
          "data": {
            "text/plain": [
              "'The top 10 highest selling artists are Iron Maiden, U2, Metallica, Led Zeppelin, Os Paralamas Do Sucesso, Deep Purple, Faith No More, Lost, Eric Clapton, and R.E.M.'"
            ],
            "application/vnd.google.colaboratory.intrinsic+json": {
              "type": "string"
            }
          },
          "metadata": {},
          "execution_count": 41
        }
      ]
    },
    {
      "cell_type": "code",
      "source": [
        "db_chain.run(\"print the names of top 10 tracks sold, and how many times they were sold in a html format\")"
      ],
      "metadata": {
        "colab": {
          "base_uri": "https://localhost:8080/",
          "height": 316
        },
        "id": "PUndPeepT7fS",
        "outputId": "618bf6b0-5c1c-4b54-fb70-56f0f1a5740e"
      },
      "execution_count": null,
      "outputs": [
        {
          "output_type": "stream",
          "name": "stdout",
          "text": [
            "\n",
            "\n",
            "\u001b[1m> Entering new SQLDatabaseChain chain...\u001b[0m\n",
            "print the names of top 10 tracks sold, and how many they times they were sold in a html format\n",
            "SQLQuery:\u001b[32;1m\u001b[1;3mSELECT tracks.Name, COUNT(invoice_items.TrackId) AS 'Number Sold'\n",
            "FROM tracks\n",
            "INNER JOIN invoice_items\n",
            "ON tracks.TrackId = invoice_items.TrackId\n",
            "GROUP BY tracks.Name\n",
            "ORDER BY COUNT(invoice_items.TrackId) DESC\n",
            "LIMIT 10;\u001b[0m\n",
            "SQLResult: \u001b[33;1m\u001b[1;3m[('The Trooper', 5), ('Untitled', 4), ('The Number Of The Beast', 4), ('Sure Know Something', 4), ('Hallowed Be Thy Name', 4), ('Eruption', 4), ('Where Eagles Dare', 3), ('Welcome Home (Sanitarium)', 3), ('Sweetest Thing', 3), ('Surrender', 3)]\u001b[0m\n",
            "Answer:\u001b[32;1m\u001b[1;3mThe top 10 tracks sold are The Trooper (5), Untitled (4), The Number Of The Beast (4), Sure Know Something (4), Hallowed Be Thy Name (4), Eruption (4), Where Eagles Dare (3), Welcome Home (Sanitarium) (3), Sweetest Thing (3), and Surrender (3).\u001b[0m\n",
            "\u001b[1m> Finished chain.\u001b[0m\n"
          ]
        },
        {
          "output_type": "execute_result",
          "data": {
            "text/plain": [
              "'The top 10 tracks sold are The Trooper (5), Untitled (4), The Number Of The Beast (4), Sure Know Something (4), Hallowed Be Thy Name (4), Eruption (4), Where Eagles Dare (3), Welcome Home (Sanitarium) (3), Sweetest Thing (3), and Surrender (3).'"
            ],
            "application/vnd.google.colaboratory.intrinsic+json": {
              "type": "string"
            }
          },
          "metadata": {},
          "execution_count": 44
        }
      ]
    },
    {
      "cell_type": "code",
      "source": [],
      "metadata": {
        "id": "DZG9EoHrXlTI"
      },
      "execution_count": null,
      "outputs": []
    }
  ]
}