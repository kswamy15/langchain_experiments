{
  "nbformat": 4,
  "nbformat_minor": 0,
  "metadata": {
    "colab": {
      "provenance": [],
      "toc_visible": true,
      "authorship_tag": "ABX9TyO7ugujtVKcg1l4k7kGBsCT",
      "include_colab_link": true
    },
    "kernelspec": {
      "name": "python3",
      "display_name": "Python 3"
    },
    "language_info": {
      "name": "python"
    }
  },
  "cells": [
    {
      "cell_type": "markdown",
      "metadata": {
        "id": "view-in-github",
        "colab_type": "text"
      },
      "source": [
        "<a href=\"https://colab.research.google.com/github/kswamy15/langchain_experiments/blob/main/Langchain_amazon_pdf_multiquery_types_test1.ipynb\" target=\"_parent\"><img src=\"https://colab.research.google.com/assets/colab-badge.svg\" alt=\"Open In Colab\"/></a>"
      ]
    },
    {
      "cell_type": "markdown",
      "source": [
        "# Install the Langchain, openai, chromadb libraries"
      ],
      "metadata": {
        "id": "ao4G4s6r0ZqJ"
      }
    },
    {
      "cell_type": "code",
      "execution_count": null,
      "metadata": {
        "id": "kQM5YKduzfg8"
      },
      "outputs": [],
      "source": [
        "!pip3 install langchain\n",
        "!pip3 install pypdf\n",
        "!pip3 install chromadb\n",
        "!pip3 install openai\n",
        "!pip3 install tiktoken\n",
        "# !pip3 install deeplake\n",
        "!pip3 install lark"
      ]
    },
    {
      "cell_type": "markdown",
      "source": [
        "# Import the Langchain libraries"
      ],
      "metadata": {
        "id": "qrcDhWGz0j8v"
      }
    },
    {
      "cell_type": "code",
      "source": [
        "import os\n",
        "os.environ[\"OPENAI_API_KEY\"] = \"\"\n",
        "\n",
        "from langchain.document_loaders import PyPDFLoader\n",
        "from langchain.document_loaders import PagedPDFSplitter\n",
        "from langchain.vectorstores import DeepLake\n",
        "from langchain.text_splitter import CharacterTextSplitter\n",
        "from langchain.embeddings import OpenAIEmbeddings\n",
        "from langchain.vectorstores import Chroma\n",
        "from langchain.chains import ConversationalRetrievalChain\n",
        "# from langchain.memory import ConversationBufferMemory\n",
        "from langchain.chat_models import ChatOpenAI\n",
        "from langchain.chains import RetrievalQA, RetrievalQAWithSourcesChain\n",
        "from langchain.chains.query_constructor.base import AttributeInfo\n",
        "from langchain.retrievers.self_query.base import SelfQueryRetriever\n",
        "from langchain.retrievers.multi_query import MultiQueryRetriever\n",
        "from langchain.retrievers.document_compressors import LLMChainExtractor\n",
        "from langchain.retrievers import ContextualCompressionRetriever"
      ],
      "metadata": {
        "id": "dTiMuJl3ziCO"
      },
      "execution_count": 26,
      "outputs": []
    },
    {
      "cell_type": "markdown",
      "source": [
        "# Download Amazon's historical Financial quarterly release pages"
      ],
      "metadata": {
        "id": "rWmVA9V30vaS"
      }
    },
    {
      "cell_type": "code",
      "source": [
        "import requests\n",
        "import tqdm\n",
        "from typing import List\n",
        "\n",
        "# financial reports of amamzon, but can be replaced by any URLs of pdfs\n",
        "urls = [\n",
        "        'https://s2.q4cdn.com/299287126/files/doc_financials/2020/Q1/AMZN-Q1-2020-Earnings-Release.pdf',\n",
        "        'https://s2.q4cdn.com/299287126/files/doc_financials/2020/q2/Q2-2020-Amazon-Earnings-Release.pdf',\n",
        "        'https://s2.q4cdn.com/299287126/files/doc_financials/2020/q3/AMZN-Q3-2020-Earnings-Release.pdf',\n",
        "        'https://s2.q4cdn.com/299287126/files/doc_financials/2020/q4/Amazon-Q4-2020-Earnings-Release.pdf',\n",
        "        'https://s2.q4cdn.com/299287126/files/doc_financials/2021/q1/Amazon-Q1-2021-Earnings-Release.pdf',\n",
        "        'https://s2.q4cdn.com/299287126/files/doc_financials/2021/q2/AMZN-Q2-2021-Earnings-Release.pdf',\n",
        "        'https://s2.q4cdn.com/299287126/files/doc_financials/2021/q3/Q3-2021-Earnings-Release.pdf',\n",
        "        'https://s2.q4cdn.com/299287126/files/doc_financials/2020/q4/Amazon-Q4-2020-Earnings-Release.pdf',\n",
        "        'https://s2.q4cdn.com/299287126/files/doc_financials/2022/q1/Q1-2022-Amazon-Earnings-Release.pdf',\n",
        "        'https://s2.q4cdn.com/299287126/files/doc_financials/2022/q2/Q2-2022-Amazon-Earnings-Release.pdf',\n",
        "        'https://s2.q4cdn.com/299287126/files/doc_financials/2022/q3/Q3-2022-Amazon-Earnings-Release.pdf',\n",
        "        'https://s2.q4cdn.com/299287126/files/doc_financials/2022/q4/Q4-2022-Amazon-Earnings-Release.pdf'\n",
        "        ]\n",
        "\n",
        "def load_reports(urls: List[str]) -> List[str]:\n",
        "    \"\"\" Load pages from a list of urls\"\"\"\n",
        "    pages = []\n",
        "\n",
        "    for url in tqdm.tqdm(urls):\n",
        "        r = requests.get(url)\n",
        "        path = url.split('/')[-1]\n",
        "        quarter = url.split('/')[-2]\n",
        "        year = url.split('/')[-3]\n",
        "        with open(path, 'wb') as f:\n",
        "            f.write(r.content)\n",
        "        loader = PagedPDFSplitter(path)\n",
        "        local_pages = loader.load_and_split()\n",
        "        for local_page in local_pages:\n",
        "          local_page.page_content = quarter + \" \"+year+\" \"+path.split(\".\")[0]+\" \" +local_page.page_content\n",
        "          local_page.metadata[\"company\"]=\"Amazon\"\n",
        "          local_page.metadata['year'] = int(year)\n",
        "          local_page.metadata['quarter'] = quarter\n",
        "        # local_pages = [path.split(\".\")[0]+\" \" +local_page for local_page in local_pages]\n",
        "        pages.extend(local_pages)\n",
        "    return pages\n",
        "\n",
        "pages = load_reports(urls)"
      ],
      "metadata": {
        "colab": {
          "base_uri": "https://localhost:8080/"
        },
        "id": "lW1Wsp6Kz-Lj",
        "outputId": "e1fea4aa-9dbb-4765-a88c-2746ddb8c004"
      },
      "execution_count": 3,
      "outputs": [
        {
          "output_type": "stream",
          "name": "stderr",
          "text": [
            "100%|██████████| 12/12 [00:34<00:00,  2.87s/it]\n"
          ]
        }
      ]
    },
    {
      "cell_type": "markdown",
      "source": [
        "# Split the documents into chunks"
      ],
      "metadata": {
        "id": "bp5o7cJR1NSE"
      }
    },
    {
      "cell_type": "code",
      "source": [
        "# split the documents into chunks\n",
        "from langchain.text_splitter import RecursiveCharacterTextSplitter\n",
        "text_splitter = RecursiveCharacterTextSplitter(\n",
        "    chunk_size = 1500,\n",
        "    chunk_overlap = 150\n",
        ")\n",
        "\n",
        "splits = text_splitter.split_documents(pages)\n",
        "print('No of pages', len(pages), 'No of splits', len(splits))"
      ],
      "metadata": {
        "colab": {
          "base_uri": "https://localhost:8080/"
        },
        "id": "PRdbLOCy1G3Q",
        "outputId": "c514e7e4-09d8-435a-b7ae-fcf5dbe7e4c6"
      },
      "execution_count": 4,
      "outputs": [
        {
          "output_type": "stream",
          "name": "stdout",
          "text": [
            "No of pages 287 No of splits 580\n"
          ]
        }
      ]
    },
    {
      "cell_type": "markdown",
      "source": [
        "# Build a ChromaDB vector store from the split documents"
      ],
      "metadata": {
        "id": "nsO_Be421ZK1"
      }
    },
    {
      "cell_type": "code",
      "source": [
        "persist_directory = 'docs/chroma/'\n",
        "!rm -rf ./docs/chroma  # remove old database files if any\n",
        "embedding = OpenAIEmbeddings()\n",
        "vectordb = Chroma.from_documents(\n",
        "    documents=splits,\n",
        "    embedding=embedding,\n",
        "    persist_directory=persist_directory\n",
        ")\n",
        "vectordb.persist()"
      ],
      "metadata": {
        "id": "KHpEtV8l1YQq"
      },
      "execution_count": 5,
      "outputs": []
    },
    {
      "cell_type": "markdown",
      "source": [
        "# Build some functions and meta data field info for retriever"
      ],
      "metadata": {
        "id": "fM3kP-eR2kvQ"
      }
    },
    {
      "cell_type": "code",
      "source": [
        "def pretty_print_docs(docs):\n",
        "    print(f\"\\n{'-' * 100}\\n\".join([f\"Document {i+1}:\\n\\n\" + d.page_content for i, d in enumerate(docs)]))\n"
      ],
      "metadata": {
        "id": "FOQETLEM1wKT"
      },
      "execution_count": 6,
      "outputs": []
    },
    {
      "cell_type": "code",
      "source": [
        "metadata_field_info = [\n",
        "    AttributeInfo(\n",
        "        name=\"year\",\n",
        "        description=\"The Year of the earnings release\",\n",
        "        type=\"integer\",\n",
        "    ),\n",
        "    AttributeInfo(\n",
        "        name=\"quarter\",\n",
        "        description=\"The quarter of the earnings release\",\n",
        "        type=\"string\",\n",
        "    ),\n",
        "    AttributeInfo(\n",
        "        name=\"page\",\n",
        "        description=\"The page from the earnings release\",\n",
        "        type=\"integer\",\n",
        "    ),\n",
        "]\n",
        "document_content_description = \"Earnings release\""
      ],
      "metadata": {
        "id": "TW0DfVph2d9l"
      },
      "execution_count": 7,
      "outputs": []
    },
    {
      "cell_type": "markdown",
      "source": [
        "# Define the various types of query Retrievers"
      ],
      "metadata": {
        "id": "aVxlheII46M3"
      }
    },
    {
      "cell_type": "code",
      "source": [
        "llm = ChatOpenAI(temperature=0)\n",
        "multi_query_retriever_from_llm = MultiQueryRetriever.from_llm(\n",
        "    retriever=vectordb.as_retriever(search_type = \"mmr\"), llm=llm\n",
        ")\n",
        "self_query_retriever = SelfQueryRetriever.from_llm(\n",
        "    llm,\n",
        "    vectordb,\n",
        "    document_content_description,\n",
        "    metadata_field_info,\n",
        "    verbose=True\n",
        ")\n",
        "compressor = LLMChainExtractor.from_llm(llm)\n",
        "compression_retriever = ContextualCompressionRetriever(\n",
        "    base_compressor=compressor,\n",
        "    base_retriever=vectordb.as_retriever(search_type = \"mmr\")\n",
        ")"
      ],
      "metadata": {
        "id": "YYU0iBnN11L9"
      },
      "execution_count": 43,
      "outputs": []
    },
    {
      "cell_type": "code",
      "source": [
        "qa_multi_query = RetrievalQA.from_chain_type(llm=llm, chain_type='stuff', retriever=multi_query_retriever_from_llm, verbose=True, return_source_documents=False)\n",
        "qa_compress_query = RetrievalQA.from_chain_type(llm=llm, chain_type='stuff', retriever=compression_retriever, verbose=True, return_source_documents=False)\n",
        "qa_self_query = RetrievalQAWithSourcesChain.from_chain_type(llm=llm, chain_type='stuff', retriever=self_query_retriever, verbose=True, return_source_documents=False)\n",
        "qa_vectordb_query = RetrievalQA.from_chain_type(llm=llm, chain_type='stuff', retriever=vectordb.as_retriever(), verbose=True, return_source_documents=False)\n",
        "qa_vectordb_mmr_query = RetrievalQA.from_chain_type(llm=llm, chain_type='stuff', retriever=vectordb.as_retriever(search_type = \"mmr\"), verbose=True, return_source_documents=False)"
      ],
      "metadata": {
        "id": "CZhAabkB2D-U"
      },
      "execution_count": 71,
      "outputs": []
    },
    {
      "cell_type": "markdown",
      "source": [
        "# Run a list of questions using the various query Retriever types"
      ],
      "metadata": {
        "id": "nnaOwvU9YTLA"
      }
    },
    {
      "cell_type": "code",
      "source": [
        "query_list = [\"What is the free cash flow for Q1 2022?\", \"What is the net profit for Q2 2022?\", 'What is the operating income for 2022?', 'What is the sales for Q2 2021']"
      ],
      "metadata": {
        "id": "I2rFB0U7Qtpc"
      },
      "execution_count": 72,
      "outputs": []
    },
    {
      "cell_type": "code",
      "source": [
        "result_list = []\n",
        "for query in query_list:\n",
        "  print(query)\n",
        "  result_multi_query = qa_multi_query({\"query\": query})\n",
        "  result_compress_query = qa_compress_query({\"query\": query})\n",
        "  result_self_query = qa_self_query({\"question\": query.lower()})\n",
        "  result_vectordb_query =  qa_vectordb_query({\"query\": query})\n",
        "  result_vectordb_mmr_query =  qa_vectordb_query({\"query\": query})\n",
        "  result_list.append([query, result_multi_query['result'], result_compress_query['result'], result_self_query['answer'], result_vectordb_query['result'],result_vectordb_mmr_query['result']])"
      ],
      "metadata": {
        "colab": {
          "base_uri": "https://localhost:8080/"
        },
        "id": "oPOJty6eRK0h",
        "outputId": "3198533f-fe68-4416-82ea-2430ee01b4f9"
      },
      "execution_count": 74,
      "outputs": [
        {
          "output_type": "stream",
          "name": "stdout",
          "text": [
            "What is the free cash flow for Q1 2022?\n",
            "\n",
            "\n",
            "\u001b[1m> Entering new RetrievalQA chain...\u001b[0m\n",
            "\n",
            "\u001b[1m> Finished chain.\u001b[0m\n",
            "\n",
            "\n",
            "\u001b[1m> Entering new RetrievalQA chain...\u001b[0m\n"
          ]
        },
        {
          "output_type": "stream",
          "name": "stderr",
          "text": [
            "/usr/local/lib/python3.10/dist-packages/langchain/chains/llm.py:275: UserWarning: The predict_and_parse method is deprecated, instead pass an output parser directly to LLMChain.\n",
            "  warnings.warn(\n"
          ]
        },
        {
          "output_type": "stream",
          "name": "stdout",
          "text": [
            "\n",
            "\u001b[1m> Finished chain.\u001b[0m\n",
            "\n",
            "\n",
            "\u001b[1m> Entering new RetrievalQAWithSourcesChain chain...\u001b[0m\n",
            "query='free cash flow' filter=Operation(operator=<Operator.AND: 'and'>, arguments=[Comparison(comparator=<Comparator.EQ: 'eq'>, attribute='quarter', value='q1'), Comparison(comparator=<Comparator.EQ: 'eq'>, attribute='year', value=2022)]) limit=None\n",
            "\n",
            "\u001b[1m> Finished chain.\u001b[0m\n",
            "\n",
            "\n",
            "\u001b[1m> Entering new RetrievalQA chain...\u001b[0m\n",
            "\n",
            "\u001b[1m> Finished chain.\u001b[0m\n",
            "\n",
            "\n",
            "\u001b[1m> Entering new RetrievalQA chain...\u001b[0m\n",
            "\n",
            "\u001b[1m> Finished chain.\u001b[0m\n",
            "What is the net profit for Q2 2022?\n",
            "\n",
            "\n",
            "\u001b[1m> Entering new RetrievalQA chain...\u001b[0m\n",
            "\n",
            "\u001b[1m> Finished chain.\u001b[0m\n",
            "\n",
            "\n",
            "\u001b[1m> Entering new RetrievalQA chain...\u001b[0m\n",
            "\n",
            "\u001b[1m> Finished chain.\u001b[0m\n",
            "\n",
            "\n",
            "\u001b[1m> Entering new RetrievalQAWithSourcesChain chain...\u001b[0m\n",
            "query='net profit' filter=Operation(operator=<Operator.AND: 'and'>, arguments=[Comparison(comparator=<Comparator.EQ: 'eq'>, attribute='quarter', value='q2'), Comparison(comparator=<Comparator.EQ: 'eq'>, attribute='year', value=2022)]) limit=None\n",
            "\n",
            "\u001b[1m> Finished chain.\u001b[0m\n",
            "\n",
            "\n",
            "\u001b[1m> Entering new RetrievalQA chain...\u001b[0m\n",
            "\n",
            "\u001b[1m> Finished chain.\u001b[0m\n",
            "\n",
            "\n",
            "\u001b[1m> Entering new RetrievalQA chain...\u001b[0m\n",
            "\n",
            "\u001b[1m> Finished chain.\u001b[0m\n",
            "What is the operating income for 2022?\n",
            "\n",
            "\n",
            "\u001b[1m> Entering new RetrievalQA chain...\u001b[0m\n",
            "\n",
            "\u001b[1m> Finished chain.\u001b[0m\n",
            "\n",
            "\n",
            "\u001b[1m> Entering new RetrievalQA chain...\u001b[0m\n",
            "\n",
            "\u001b[1m> Finished chain.\u001b[0m\n",
            "\n",
            "\n",
            "\u001b[1m> Entering new RetrievalQAWithSourcesChain chain...\u001b[0m\n",
            "query='operating income' filter=Comparison(comparator=<Comparator.EQ: 'eq'>, attribute='year', value='2022') limit=None\n",
            "\n",
            "\u001b[1m> Finished chain.\u001b[0m\n",
            "\n",
            "\n",
            "\u001b[1m> Entering new RetrievalQA chain...\u001b[0m\n",
            "\n",
            "\u001b[1m> Finished chain.\u001b[0m\n",
            "\n",
            "\n",
            "\u001b[1m> Entering new RetrievalQA chain...\u001b[0m\n",
            "\n",
            "\u001b[1m> Finished chain.\u001b[0m\n",
            "What is the sales for Q2 2021\n",
            "\n",
            "\n",
            "\u001b[1m> Entering new RetrievalQA chain...\u001b[0m\n",
            "\n",
            "\u001b[1m> Finished chain.\u001b[0m\n",
            "\n",
            "\n",
            "\u001b[1m> Entering new RetrievalQA chain...\u001b[0m\n"
          ]
        },
        {
          "output_type": "stream",
          "name": "stderr",
          "text": [
            "WARNING:langchain.llms.base:Retrying langchain.chat_models.openai.ChatOpenAI.completion_with_retry.<locals>._completion_with_retry in 4.0 seconds as it raised ServiceUnavailableError: The server is overloaded or not ready yet..\n"
          ]
        },
        {
          "output_type": "stream",
          "name": "stdout",
          "text": [
            "\n",
            "\u001b[1m> Finished chain.\u001b[0m\n",
            "\n",
            "\n",
            "\u001b[1m> Entering new RetrievalQAWithSourcesChain chain...\u001b[0m\n",
            "query='sales' filter=Operation(operator=<Operator.AND: 'and'>, arguments=[Comparison(comparator=<Comparator.EQ: 'eq'>, attribute='quarter', value='q2'), Comparison(comparator=<Comparator.EQ: 'eq'>, attribute='year', value=2021)]) limit=None\n",
            "\n",
            "\u001b[1m> Finished chain.\u001b[0m\n",
            "\n",
            "\n",
            "\u001b[1m> Entering new RetrievalQA chain...\u001b[0m\n",
            "\n",
            "\u001b[1m> Finished chain.\u001b[0m\n",
            "\n",
            "\n",
            "\u001b[1m> Entering new RetrievalQA chain...\u001b[0m\n",
            "\n",
            "\u001b[1m> Finished chain.\u001b[0m\n"
          ]
        }
      ]
    },
    {
      "cell_type": "code",
      "source": [
        "result_list"
      ],
      "metadata": {
        "colab": {
          "base_uri": "https://localhost:8080/"
        },
        "id": "EfTSjR9hQTyU",
        "outputId": "a7146e57-6cb7-4945-ee2a-d32697f27813"
      },
      "execution_count": 77,
      "outputs": [
        {
          "output_type": "execute_result",
          "data": {
            "text/plain": [
              "[['What is the free cash flow for Q1 2022?',\n",
              "  'The free cash flow for Q1 2022 is -$18,627 million.',\n",
              "  'Based on the provided information, we do not have the specific free cash flow amount for Q1 2022. The information only includes data for the trailing twelve months up until December 31, 2021.',\n",
              "  'The free cash flow for Q1 2022 is not provided in the given document.\\n',\n",
              "  'The free cash flow for Q1 2022 is an outflow of $18.6 billion.',\n",
              "  'The free cash flow for Q1 2022 is an outflow of $18.6 billion.'],\n",
              " ['What is the net profit for Q2 2022?',\n",
              "  'The net profit for Q2 2022 is -$2.028 billion.',\n",
              "  'The net loss for Q2 2022 is $2.7 billion, or $0.27 per diluted share.',\n",
              "  'The net profit for Q2 2022 is a loss of $2.0 billion.\\n',\n",
              "  'The information provided does not mention the net profit for Q2 2022.',\n",
              "  'The information provided does not mention the net profit for Q2 2022.'],\n",
              " ['What is the operating income for 2022?',\n",
              "  'The operating income for 2022 is $12.2 billion.',\n",
              "  'The operating income for 2022 is $12.2 billion.',\n",
              "  \"I don't know the answer.\",\n",
              "  'The operating income for 2022 is $12.2 billion.',\n",
              "  'The operating income for 2022 is $12.2 billion.'],\n",
              " ['What is the sales for Q2 2021',\n",
              "  'The net sales for Q2 2021 were $113.1 billion.',\n",
              "  'The sales for Q2 2021 were $113.1 billion.',\n",
              "  'The sales for Q2 2021 are not provided in the given document.\\n',\n",
              "  'The net sales for Q2 2021 were $113.1 billion.',\n",
              "  'The net sales for Q2 2021 were $113.1 billion.']]"
            ]
          },
          "metadata": {},
          "execution_count": 77
        }
      ]
    },
    {
      "cell_type": "code",
      "source": [
        "import pandas as pd\n",
        "pd.set_option('display.max_colwidth', None)"
      ],
      "metadata": {
        "id": "grja8NfxPgds"
      },
      "execution_count": 78,
      "outputs": []
    },
    {
      "cell_type": "code",
      "source": [
        "pd.DataFrame(data=result_list, columns=['question','multi_query','compress_query','self_query','vectordb_query','vectordb_mmr_query']).head()"
      ],
      "metadata": {
        "colab": {
          "base_uri": "https://localhost:8080/",
          "height": 340
        },
        "id": "ECCUh_iRPj93",
        "outputId": "4e3dd62f-ef58-4246-816a-250cf4dd2ad6"
      },
      "execution_count": 79,
      "outputs": [
        {
          "output_type": "execute_result",
          "data": {
            "text/plain": [
              "                                  question  \\\n",
              "0  What is the free cash flow for Q1 2022?   \n",
              "1      What is the net profit for Q2 2022?   \n",
              "2   What is the operating income for 2022?   \n",
              "3            What is the sales for Q2 2021   \n",
              "\n",
              "                                           multi_query  \\\n",
              "0  The free cash flow for Q1 2022 is -$18,627 million.   \n",
              "1       The net profit for Q2 2022 is -$2.028 billion.   \n",
              "2      The operating income for 2022 is $12.2 billion.   \n",
              "3       The net sales for Q2 2021 were $113.1 billion.   \n",
              "\n",
              "                                                                                                                                                                                    compress_query  \\\n",
              "0  Based on the provided information, we do not have the specific free cash flow amount for Q1 2022. The information only includes data for the trailing twelve months up until December 31, 2021.   \n",
              "1                                                                                                                            The net loss for Q2 2022 is $2.7 billion, or $0.27 per diluted share.   \n",
              "2                                                                                                                                                  The operating income for 2022 is $12.2 billion.   \n",
              "3                                                                                                                                                       The sales for Q2 2021 were $113.1 billion.   \n",
              "\n",
              "                                                                self_query  \\\n",
              "0  The free cash flow for Q1 2022 is not provided in the given document.\\n   \n",
              "1                  The net profit for Q2 2022 is a loss of $2.0 billion.\\n   \n",
              "2                                                 I don't know the answer.   \n",
              "3          The sales for Q2 2021 are not provided in the given document.\\n   \n",
              "\n",
              "                                                          vectordb_query  \\\n",
              "0         The free cash flow for Q1 2022 is an outflow of $18.6 billion.   \n",
              "1  The information provided does not mention the net profit for Q2 2022.   \n",
              "2                        The operating income for 2022 is $12.2 billion.   \n",
              "3                         The net sales for Q2 2021 were $113.1 billion.   \n",
              "\n",
              "                                                      vectordb_mmr_query  \n",
              "0         The free cash flow for Q1 2022 is an outflow of $18.6 billion.  \n",
              "1  The information provided does not mention the net profit for Q2 2022.  \n",
              "2                        The operating income for 2022 is $12.2 billion.  \n",
              "3                         The net sales for Q2 2021 were $113.1 billion.  "
            ],
            "text/html": [
              "\n",
              "\n",
              "  <div id=\"df-ee13f76d-9824-4cae-9d1a-0eda40399328\">\n",
              "    <div class=\"colab-df-container\">\n",
              "      <div>\n",
              "<style scoped>\n",
              "    .dataframe tbody tr th:only-of-type {\n",
              "        vertical-align: middle;\n",
              "    }\n",
              "\n",
              "    .dataframe tbody tr th {\n",
              "        vertical-align: top;\n",
              "    }\n",
              "\n",
              "    .dataframe thead th {\n",
              "        text-align: right;\n",
              "    }\n",
              "</style>\n",
              "<table border=\"1\" class=\"dataframe\">\n",
              "  <thead>\n",
              "    <tr style=\"text-align: right;\">\n",
              "      <th></th>\n",
              "      <th>question</th>\n",
              "      <th>multi_query</th>\n",
              "      <th>compress_query</th>\n",
              "      <th>self_query</th>\n",
              "      <th>vectordb_query</th>\n",
              "      <th>vectordb_mmr_query</th>\n",
              "    </tr>\n",
              "  </thead>\n",
              "  <tbody>\n",
              "    <tr>\n",
              "      <th>0</th>\n",
              "      <td>What is the free cash flow for Q1 2022?</td>\n",
              "      <td>The free cash flow for Q1 2022 is -$18,627 million.</td>\n",
              "      <td>Based on the provided information, we do not have the specific free cash flow amount for Q1 2022. The information only includes data for the trailing twelve months up until December 31, 2021.</td>\n",
              "      <td>The free cash flow for Q1 2022 is not provided in the given document.\\n</td>\n",
              "      <td>The free cash flow for Q1 2022 is an outflow of $18.6 billion.</td>\n",
              "      <td>The free cash flow for Q1 2022 is an outflow of $18.6 billion.</td>\n",
              "    </tr>\n",
              "    <tr>\n",
              "      <th>1</th>\n",
              "      <td>What is the net profit for Q2 2022?</td>\n",
              "      <td>The net profit for Q2 2022 is -$2.028 billion.</td>\n",
              "      <td>The net loss for Q2 2022 is $2.7 billion, or $0.27 per diluted share.</td>\n",
              "      <td>The net profit for Q2 2022 is a loss of $2.0 billion.\\n</td>\n",
              "      <td>The information provided does not mention the net profit for Q2 2022.</td>\n",
              "      <td>The information provided does not mention the net profit for Q2 2022.</td>\n",
              "    </tr>\n",
              "    <tr>\n",
              "      <th>2</th>\n",
              "      <td>What is the operating income for 2022?</td>\n",
              "      <td>The operating income for 2022 is $12.2 billion.</td>\n",
              "      <td>The operating income for 2022 is $12.2 billion.</td>\n",
              "      <td>I don't know the answer.</td>\n",
              "      <td>The operating income for 2022 is $12.2 billion.</td>\n",
              "      <td>The operating income for 2022 is $12.2 billion.</td>\n",
              "    </tr>\n",
              "    <tr>\n",
              "      <th>3</th>\n",
              "      <td>What is the sales for Q2 2021</td>\n",
              "      <td>The net sales for Q2 2021 were $113.1 billion.</td>\n",
              "      <td>The sales for Q2 2021 were $113.1 billion.</td>\n",
              "      <td>The sales for Q2 2021 are not provided in the given document.\\n</td>\n",
              "      <td>The net sales for Q2 2021 were $113.1 billion.</td>\n",
              "      <td>The net sales for Q2 2021 were $113.1 billion.</td>\n",
              "    </tr>\n",
              "  </tbody>\n",
              "</table>\n",
              "</div>\n",
              "      <button class=\"colab-df-convert\" onclick=\"convertToInteractive('df-ee13f76d-9824-4cae-9d1a-0eda40399328')\"\n",
              "              title=\"Convert this dataframe to an interactive table.\"\n",
              "              style=\"display:none;\">\n",
              "\n",
              "  <svg xmlns=\"http://www.w3.org/2000/svg\" height=\"24px\"viewBox=\"0 0 24 24\"\n",
              "       width=\"24px\">\n",
              "    <path d=\"M0 0h24v24H0V0z\" fill=\"none\"/>\n",
              "    <path d=\"M18.56 5.44l.94 2.06.94-2.06 2.06-.94-2.06-.94-.94-2.06-.94 2.06-2.06.94zm-11 1L8.5 8.5l.94-2.06 2.06-.94-2.06-.94L8.5 2.5l-.94 2.06-2.06.94zm10 10l.94 2.06.94-2.06 2.06-.94-2.06-.94-.94-2.06-.94 2.06-2.06.94z\"/><path d=\"M17.41 7.96l-1.37-1.37c-.4-.4-.92-.59-1.43-.59-.52 0-1.04.2-1.43.59L10.3 9.45l-7.72 7.72c-.78.78-.78 2.05 0 2.83L4 21.41c.39.39.9.59 1.41.59.51 0 1.02-.2 1.41-.59l7.78-7.78 2.81-2.81c.8-.78.8-2.07 0-2.86zM5.41 20L4 18.59l7.72-7.72 1.47 1.35L5.41 20z\"/>\n",
              "  </svg>\n",
              "      </button>\n",
              "\n",
              "\n",
              "\n",
              "    <div id=\"df-b7607871-d7f0-4f9e-b051-605608934bc1\">\n",
              "      <button class=\"colab-df-quickchart\" onclick=\"quickchart('df-b7607871-d7f0-4f9e-b051-605608934bc1')\"\n",
              "              title=\"Suggest charts.\"\n",
              "              style=\"display:none;\">\n",
              "\n",
              "<svg xmlns=\"http://www.w3.org/2000/svg\" height=\"24px\"viewBox=\"0 0 24 24\"\n",
              "     width=\"24px\">\n",
              "    <g>\n",
              "        <path d=\"M19 3H5c-1.1 0-2 .9-2 2v14c0 1.1.9 2 2 2h14c1.1 0 2-.9 2-2V5c0-1.1-.9-2-2-2zM9 17H7v-7h2v7zm4 0h-2V7h2v10zm4 0h-2v-4h2v4z\"/>\n",
              "    </g>\n",
              "</svg>\n",
              "      </button>\n",
              "    </div>\n",
              "\n",
              "<style>\n",
              "  .colab-df-quickchart {\n",
              "    background-color: #E8F0FE;\n",
              "    border: none;\n",
              "    border-radius: 50%;\n",
              "    cursor: pointer;\n",
              "    display: none;\n",
              "    fill: #1967D2;\n",
              "    height: 32px;\n",
              "    padding: 0 0 0 0;\n",
              "    width: 32px;\n",
              "  }\n",
              "\n",
              "  .colab-df-quickchart:hover {\n",
              "    background-color: #E2EBFA;\n",
              "    box-shadow: 0px 1px 2px rgba(60, 64, 67, 0.3), 0px 1px 3px 1px rgba(60, 64, 67, 0.15);\n",
              "    fill: #174EA6;\n",
              "  }\n",
              "\n",
              "  [theme=dark] .colab-df-quickchart {\n",
              "    background-color: #3B4455;\n",
              "    fill: #D2E3FC;\n",
              "  }\n",
              "\n",
              "  [theme=dark] .colab-df-quickchart:hover {\n",
              "    background-color: #434B5C;\n",
              "    box-shadow: 0px 1px 3px 1px rgba(0, 0, 0, 0.15);\n",
              "    filter: drop-shadow(0px 1px 2px rgba(0, 0, 0, 0.3));\n",
              "    fill: #FFFFFF;\n",
              "  }\n",
              "</style>\n",
              "\n",
              "    <script>\n",
              "      async function quickchart(key) {\n",
              "        const containerElement = document.querySelector('#' + key);\n",
              "        const charts = await google.colab.kernel.invokeFunction(\n",
              "            'suggestCharts', [key], {});\n",
              "      }\n",
              "    </script>\n",
              "\n",
              "      <script>\n",
              "\n",
              "function displayQuickchartButton(domScope) {\n",
              "  let quickchartButtonEl =\n",
              "    domScope.querySelector('#df-b7607871-d7f0-4f9e-b051-605608934bc1 button.colab-df-quickchart');\n",
              "  quickchartButtonEl.style.display =\n",
              "    google.colab.kernel.accessAllowed ? 'block' : 'none';\n",
              "}\n",
              "\n",
              "        displayQuickchartButton(document);\n",
              "      </script>\n",
              "      <style>\n",
              "    .colab-df-container {\n",
              "      display:flex;\n",
              "      flex-wrap:wrap;\n",
              "      gap: 12px;\n",
              "    }\n",
              "\n",
              "    .colab-df-convert {\n",
              "      background-color: #E8F0FE;\n",
              "      border: none;\n",
              "      border-radius: 50%;\n",
              "      cursor: pointer;\n",
              "      display: none;\n",
              "      fill: #1967D2;\n",
              "      height: 32px;\n",
              "      padding: 0 0 0 0;\n",
              "      width: 32px;\n",
              "    }\n",
              "\n",
              "    .colab-df-convert:hover {\n",
              "      background-color: #E2EBFA;\n",
              "      box-shadow: 0px 1px 2px rgba(60, 64, 67, 0.3), 0px 1px 3px 1px rgba(60, 64, 67, 0.15);\n",
              "      fill: #174EA6;\n",
              "    }\n",
              "\n",
              "    [theme=dark] .colab-df-convert {\n",
              "      background-color: #3B4455;\n",
              "      fill: #D2E3FC;\n",
              "    }\n",
              "\n",
              "    [theme=dark] .colab-df-convert:hover {\n",
              "      background-color: #434B5C;\n",
              "      box-shadow: 0px 1px 3px 1px rgba(0, 0, 0, 0.15);\n",
              "      filter: drop-shadow(0px 1px 2px rgba(0, 0, 0, 0.3));\n",
              "      fill: #FFFFFF;\n",
              "    }\n",
              "  </style>\n",
              "\n",
              "      <script>\n",
              "        const buttonEl =\n",
              "          document.querySelector('#df-ee13f76d-9824-4cae-9d1a-0eda40399328 button.colab-df-convert');\n",
              "        buttonEl.style.display =\n",
              "          google.colab.kernel.accessAllowed ? 'block' : 'none';\n",
              "\n",
              "        async function convertToInteractive(key) {\n",
              "          const element = document.querySelector('#df-ee13f76d-9824-4cae-9d1a-0eda40399328');\n",
              "          const dataTable =\n",
              "            await google.colab.kernel.invokeFunction('convertToInteractive',\n",
              "                                                     [key], {});\n",
              "          if (!dataTable) return;\n",
              "\n",
              "          const docLinkHtml = 'Like what you see? Visit the ' +\n",
              "            '<a target=\"_blank\" href=https://colab.research.google.com/notebooks/data_table.ipynb>data table notebook</a>'\n",
              "            + ' to learn more about interactive tables.';\n",
              "          element.innerHTML = '';\n",
              "          dataTable['output_type'] = 'display_data';\n",
              "          await google.colab.output.renderOutput(dataTable, element);\n",
              "          const docLink = document.createElement('div');\n",
              "          docLink.innerHTML = docLinkHtml;\n",
              "          element.appendChild(docLink);\n",
              "        }\n",
              "      </script>\n",
              "    </div>\n",
              "  </div>\n"
            ]
          },
          "metadata": {},
          "execution_count": 79
        }
      ]
    },
    {
      "cell_type": "markdown",
      "source": [
        "# Some query results from other experiments"
      ],
      "metadata": {
        "id": "kGMhCnumYmcL"
      }
    },
    {
      "cell_type": "code",
      "source": [
        "query = \"Summarize the financial results for Q1 2022?\"\n",
        "result_multi_query = qa_multi_query({\"query\": query})"
      ],
      "metadata": {
        "colab": {
          "base_uri": "https://localhost:8080/"
        },
        "id": "LNo3pRd5booY",
        "outputId": "35ea7f3a-8bc8-4cf9-8d2d-da09c17b709c"
      },
      "execution_count": 80,
      "outputs": [
        {
          "output_type": "stream",
          "name": "stdout",
          "text": [
            "\n",
            "\n",
            "\u001b[1m> Entering new RetrievalQA chain...\u001b[0m\n",
            "\n",
            "\u001b[1m> Finished chain.\u001b[0m\n"
          ]
        }
      ]
    },
    {
      "cell_type": "code",
      "source": [
        "result_multi_query"
      ],
      "metadata": {
        "colab": {
          "base_uri": "https://localhost:8080/"
        },
        "id": "dECsw7Fwbx09",
        "outputId": "d35ecfe4-9a8a-4e38-da50-e5626d60e595"
      },
      "execution_count": 81,
      "outputs": [
        {
          "output_type": "execute_result",
          "data": {
            "text/plain": [
              "{'query': 'Summarize the financial results for Q1 2022?',\n",
              " 'result': 'In Q1 2022, Amazon.com reported a 7% increase in net sales, reaching $116.4 billion compared to $108.5 billion in Q1 2021. However, the operating cash flow decreased by 41% to $39.3 billion for the trailing twelve months, compared to $67.2 billion in the previous year. Free cash flow also decreased to an outflow of $18.6 billion for the trailing twelve months, compared to an inflow of $26.4 billion in the previous year. Additionally, the company reported an outflow of $29.3 billion in free cash flow less principal repayments of finance leases and financing obligations for the trailing twelve months, compared to an inflow of $14.9 billion in the previous year.'}"
            ]
          },
          "metadata": {},
          "execution_count": 81
        }
      ]
    },
    {
      "cell_type": "code",
      "source": [
        "query = \"What is the free cash flow for Q1 2022?\"\n",
        "# self_query = \"What is the net profit for q2 2022?\"\n",
        "# query = \"What is the operating income for 2022?\"\n",
        "result_multi_query = qa_multi_query({\"query\": query})\n",
        "result_compress_query = qa_compress_query({\"query\": query})\n",
        "result_self_query = qa_self_query({\"question\": query.lower()})\n",
        "result_vectordb_query =  qa_vectordb_query({\"query\": query})"
      ],
      "metadata": {
        "colab": {
          "base_uri": "https://localhost:8080/"
        },
        "id": "Y011ZmVx4j1-",
        "outputId": "f8a822c9-91f7-4c7a-95c1-f394f5bd09ce"
      },
      "execution_count": 55,
      "outputs": [
        {
          "output_type": "stream",
          "name": "stdout",
          "text": [
            "\n",
            "\n",
            "\u001b[1m> Entering new RetrievalQA chain...\u001b[0m\n",
            "\n",
            "\u001b[1m> Finished chain.\u001b[0m\n",
            "\n",
            "\n",
            "\u001b[1m> Entering new RetrievalQA chain...\u001b[0m\n"
          ]
        },
        {
          "output_type": "stream",
          "name": "stderr",
          "text": [
            "/usr/local/lib/python3.10/dist-packages/langchain/chains/llm.py:275: UserWarning: The predict_and_parse method is deprecated, instead pass an output parser directly to LLMChain.\n",
            "  warnings.warn(\n"
          ]
        },
        {
          "output_type": "stream",
          "name": "stdout",
          "text": [
            "\n",
            "\u001b[1m> Finished chain.\u001b[0m\n",
            "\n",
            "\n",
            "\u001b[1m> Entering new RetrievalQAWithSourcesChain chain...\u001b[0m\n",
            "query='free cash flow' filter=Operation(operator=<Operator.AND: 'and'>, arguments=[Comparison(comparator=<Comparator.EQ: 'eq'>, attribute='quarter', value='q1'), Comparison(comparator=<Comparator.EQ: 'eq'>, attribute='year', value=2022)]) limit=None\n",
            "\n",
            "\u001b[1m> Finished chain.\u001b[0m\n",
            "\n",
            "\n",
            "\u001b[1m> Entering new RetrievalQA chain...\u001b[0m\n",
            "\n",
            "\u001b[1m> Finished chain.\u001b[0m\n"
          ]
        }
      ]
    },
    {
      "cell_type": "code",
      "source": [
        "print(result_multi_query)\n",
        "print(result_compress_query)\n",
        "print(result_self_query)\n",
        "print(result_vectordb_query)"
      ],
      "metadata": {
        "colab": {
          "base_uri": "https://localhost:8080/"
        },
        "id": "9KeLHiL94VWz",
        "outputId": "eb53d722-6ffc-4efc-d760-d932e030420a"
      },
      "execution_count": 56,
      "outputs": [
        {
          "output_type": "stream",
          "name": "stdout",
          "text": [
            "{'query': 'What is the free cash flow for Q1 2022?', 'result': 'The free cash flow for Q1 2022 is -$18,627 million.'}\n",
            "{'query': 'What is the free cash flow for Q1 2022?', 'result': 'Based on the provided information, we do not have the specific free cash flow amount for Q1 2022. The information only includes data for the trailing twelve months up until December 31, 2021.'}\n",
            "{'question': 'what is the free cash flow for q1 2022?', 'answer': 'The free cash flow for Q1 2022 is not provided in the given information.\\n', 'sources': 'Q1-2022-Amazon-Earnings-Release.pdf'}\n",
            "{'query': 'What is the free cash flow for Q1 2022?', 'result': 'The free cash flow for Q1 2022 is an outflow of $18.6 billion.'}\n"
          ]
        }
      ]
    },
    {
      "cell_type": "code",
      "source": [
        "query = \"What is the revenue for Q1 2021?\"\n",
        "result_multi_query = qa_multi_query({\"query\": query})\n",
        "result_compress_query = qa_compress_query({\"query\": query})\n",
        "result_self_query = qa_self_query({\"question\": query.lower()})\n",
        "result_vectordb_query =  qa_vectordb_query({\"query\": query})"
      ],
      "metadata": {
        "colab": {
          "base_uri": "https://localhost:8080/"
        },
        "id": "fmpMCv3A50PB",
        "outputId": "4e07497e-595e-42ad-ee30-379003146f90"
      },
      "execution_count": 46,
      "outputs": [
        {
          "output_type": "stream",
          "name": "stdout",
          "text": [
            "\n",
            "\n",
            "\u001b[1m> Entering new RetrievalQA chain...\u001b[0m\n",
            "\n",
            "\u001b[1m> Finished chain.\u001b[0m\n",
            "\n",
            "\n",
            "\u001b[1m> Entering new RetrievalQA chain...\u001b[0m\n",
            "\n",
            "\u001b[1m> Finished chain.\u001b[0m\n",
            "\n",
            "\n",
            "\u001b[1m> Entering new RetrievalQAWithSourcesChain chain...\u001b[0m\n",
            "query='revenue' filter=Operation(operator=<Operator.AND: 'and'>, arguments=[Comparison(comparator=<Comparator.EQ: 'eq'>, attribute='quarter', value='q1'), Comparison(comparator=<Comparator.EQ: 'eq'>, attribute='year', value=2021)]) limit=None\n",
            "\n",
            "\u001b[1m> Finished chain.\u001b[0m\n",
            "\n",
            "\n",
            "\u001b[1m> Entering new RetrievalQA chain...\u001b[0m\n",
            "\n",
            "\u001b[1m> Finished chain.\u001b[0m\n"
          ]
        }
      ]
    },
    {
      "cell_type": "code",
      "source": [
        "print(result_multi_query)\n",
        "print(result_compress_query)\n",
        "print(result_self_query)\n",
        "print(result_vectordb_query)"
      ],
      "metadata": {
        "colab": {
          "base_uri": "https://localhost:8080/"
        },
        "id": "V5XFOY5_7zCV",
        "outputId": "e904d2f3-f93d-468a-ca65-a21dde04bdb9"
      },
      "execution_count": 47,
      "outputs": [
        {
          "output_type": "stream",
          "name": "stdout",
          "text": [
            "{'query': 'What is the revenue for Q1 2021?', 'result': 'The revenue for Q1 2021 was $108.5 billion.', 'source_documents': [Document(page_content='q1 2021 Amazon-Q1-2021-Earnings-Release AMAZON.COM ANNOUNCES FIRST QUARTER RESULTS \\n \\nSEATTLE—(BUSINESS WIRE) April 29, 2021—Amazon.com, Inc. (NASDAQ: AMZN) today announced financial results \\nfor its first quarter ended March 31, 2021.  \\n \\n• Operating cash flow  increased 69% to $67.2 billion for the trailing twelve months, compared with $39.7 billion for \\nthe trailing twelve months ended March 31, 2020.  \\n• Free cash flow  increased to $26.4 billion for the trailing twelve months, compared with $24.3 billion for the trailing \\ntwelve months ended March 31, 2020.  \\n• Free cash flow less principal repayments of finance leases and financing obligations  increased to $14.9 billion for \\nthe trailing twelve months, compared with $14.3 billion for the trailing twelve months ended March 31, 2020.  \\n• Free cash flow less equipment finance leases and principal repayments of all other finance leases and financing \\nobligations increased to $16.8 billion for the trailing twelve months, compared with $11.7 billion for the trailing \\ntwelve months ended March 31, 2020. \\n• Common shares outstanding plus shares underlying stock-based awards  totaled 519 million on March 31, 2021, \\ncompared with 513 million one year ago. \\n• Net sales  increased 44% to $108.5 billion in the first quarter, compared with $75.5 billion in first quarter 2020. \\nExcluding the $2.1 billion favorable impact from year-over-year changes in foreign exchange rates throughout the', metadata={'company': 'Amazon', 'page': 0, 'quarter': 'q1', 'source': 'Amazon-Q1-2021-Earnings-Release.pdf', 'year': 2021}), Document(page_content='•Net sales increased 7% to $116.4 billion in the first quarter, compared with $108.5 billion in first quarter 2021.\\nExcluding the $1.8 billion unfavorable impact from year-over-year changes in foreign exchange rates throughout the\\nquarter, net sales increased 9% compared with first quarter 2021.\\n•Operating income  decreased to $3.7 billion in the first quarter, compared with $8.9 billion in first quarter 2021.\\n•Net loss was $3.8 billion in the first quarter, or $7.56 per diluted share, compared with net income of $8.1 billion, or\\n$15.79 per diluted share, in first quarter 2021. First quarter 2022 net loss includes a pre-tax valuation loss of $7.6\\nbillion included in non-operating expense from our common stock investment in Rivian Automotive, Inc.\\n“The pandemic and subsequent war in Ukraine have brought unusual growth and challenges,” said Andy Jassy, Amazon CEO. \\n“With AWS growing 34% annually over the last two years, and 37% year-over-year in the first quarter, AWS has been integral \\nin helping companies weather the pandemic and move more of their workloads into the cloud. Our Consumer business has \\ngrown 23% annually over the past two years, with extraordinary growth in 2020 of 39% year-over-year that necessitated \\ndoubling the size of our fulfillment network that we’d built over Amazon’s first 25 years—and doing so in just 24 months. \\nToday, as we’re no longer chasing physical or staffing capacity, our teams are squarely focused on improving productivity and', metadata={'company': 'Amazon', 'page': 0, 'quarter': 'q1', 'source': 'Q1-2022-Amazon-Earnings-Release.pdf', 'year': 2022}), Document(page_content='sellers, all of which are uncertain. This guidance also assumes the impacts on consumer demand and spending patterns, \\nincluding impacts due to concerns over the current economic outlook, will be in line with those experienced during the second \\nquarter of 2021 to date, and the additional assumptions set forth below. However, it is not possible to determine the ultimate \\nimpact on our operations for the second quarter of 2021, or whether other currently unanticipated direct or indirect \\nconsequences of the pandemic are reasonably likely to materially affect our operations. \\nSecond Quarter 2021 Guidance \\n• Net sales are expected to be between $110.0 billion and $116.0 billion, or to grow between 24% and 30% compared \\nwith second quarter 2020. This guidance anticipates a favorable impact of approximately 200 basis points from foreign \\nexchange rates.  \\n• Operating income is expected to be between $4.5 billion and $8.0 billion, compared with $5.8 billion in second quarter \\n2020. This guidance assumes approximately $1.5 billion of costs related to COVID-19.  \\n• This guidance assumes that Prime Day occurs in second quarter 2021. \\n• This guidance assumes, among other things, that no additional business acquisitions, investments, restructurings, or \\nlegal settlements are concluded. \\n \\nA conference call will be webcast live today at 2:30 p.m. PT/5:30 p.m. ET, and will be available for at least three months at', metadata={'company': 'Amazon', 'page': 9, 'quarter': 'q1', 'source': 'Amazon-Q1-2021-Earnings-Release.pdf', 'year': 2021}), Document(page_content='q1 2021 Amazon-Q1-2021-Earnings-Release AMAZON.COM, INC. \\nSupplemental Financial Information and Business Metrics \\n(in millions) \\n(unaudited) \\n Q4 2019 Q1 2020 Q2 2020 Q3 2020 Q4 2020 Q1 2021 Y/Y % \\nChange \\nSegments        \\nNorth America Segment:         \\n  Net sales $ 53,670  $ 46,127  $ 55,436   $ 59,373  $ 75,346   $ 64,366  40  % \\n  Net sales -- Y/Y growth, exclu ding F/X 22  % 29 % 44 % 39 % 40  % 39 % N/A \\n  Net sales -- TTM $ 170,773  $ 181,088  $ 197,871   $ 214,606  $ 236,282   $ 254,521  41  % \\n  Operating income  $ 1,900  $ 1,312  $ 2,141   $ 2,252  $ 2,946   $ 3,450  163  % \\n  F/X impact -- favorable (unfav orable) $ (3) $ 5  $ (4)  $ —  $ 7   $ 8  N/A \\n  Operating income -- Y/Y growth (decline), excl uding F/X (16) % (43)% 37 % 76 % 55  % 162 % N/A \\n  Operating margin -- % of North America net sales  3.5  % 2.8 % 3.9 % 3.8 % 3.9  % 5.4 % N/A \\n  Operating income -- TTM $ 7,033  $ 6,057  $ 6,634   $ 7,604  $ 8,651   $ 10,789  78  % \\n  Operating margin -- TTM % of N orth America net sales  4.1  % 3.4 % 3.4 % 3.5 % 3.7  % 4.2 % N/A \\nInternational Segment:         \\n  Net sales $ 23,813  $ 19,106  $ 22,668   $ 25,171  $ 37,467   $ 30,649  60  % \\n  Net sales -- Y/Y growth, exclu ding F/X 15  % 20 % 41 % 33 % 50  % 50 % N/A \\n  Net sales -- TTM $ 74,723  $ 77,637  $ 83,935   $ 90,758  $ 104,412   $ 115,955  49  % \\n  Operating income (loss)  $ (617) $ (398) $ 345   $ 407  $ 363   $ 1,252  N/A', metadata={'company': 'Amazon', 'page': 17, 'quarter': 'q1', 'source': 'Amazon-Q1-2021-Earnings-Release.pdf', 'year': 2021}), Document(page_content='q2 2021 AMZN-Q2-2021-Earnings-Release AMAZON.COM, INC.\\nSupplemental Financial Information and Business Metrics\\n(in millions, except per share data)\\n(unaudited)\\nQ1 2020 Q2 2020 Q3 2020 Q4 2020 Q1 2021 Q2 2021Y/Y %\\nChange\\nCash Flows and Shares\\nOperating cash flow -- trailing twelve months (TTM) $ 39,732 $ 51,220 $ 55,292 $ 66,064 $ 67,213 $ 59,322  16 %\\nOperating cash flow -- TTM Y/Y growth  16 %  42 %  56 %  72 %  69 %  16 % N/A\\nPurchases of property and equipment, net of proceeds from sales and incentives -- TTM\\n$ 15,395 $ 19,368 $ 25,791 $ 35,044 $ 40,803 $ 47,176  144 %\\nPrincipal repayments of finance leases -- TTM $ 10,013 $ 10,504 $ 11,054 $ 10,642 $ 11,448 $ 11,435  9 %\\nPrincipal repayments of financing obligations -- TTM $ 43 $ 56 $ 68 $ 53 $ 103 $ 116  106 %\\nEquipment acquired under finance leases -- TTM (1) $ 12,209 $ 11,952 $ 11,116 $ 9,104 $ 8,936 $ 7,295  (39) %\\nPrincipal repayments of all other finance leases -- TTM (2) $ 407 $ 415 $ 413 $ 427 $ 525 $ 550  33 %\\nFree cash flow -- TTM (3) $ 24,337 $ 31,852 $ 29,501 $ 31,020 $ 26,410 $ 12,146  (62) %\\nFree cash flow less principal repayments of finance leases and financing obligations\\n-- TTM (4) $ 14,281 $ 21,292 $ 18,379 $ 20,325 $ 14,859 $ 595  (97) %\\nFree cash flow less equipment finance leases and principal repayments of all other \\nfinance leases and financing obligations -- TTM (5) $ 11,678 $ 19,429 $ 17,904 $ 21,436 $ 16,846 $ 4,185  (78) %', metadata={'company': 'Amazon', 'page': 12, 'quarter': 'q2', 'source': 'AMZN-Q2-2021-Earnings-Release.pdf', 'year': 2021}), Document(page_content='q1 2021 Amazon-Q1-2021-Earnings-Release AMAZON.COM, INC. \\nSegment Information \\n(in millions) \\n(unaudited)   \\n   Three Months Ended  \\nMarch 31, \\n  2020  2021 \\n      \\nNorth America     \\nNet sales $ 46,127   $ 64,366  \\nOperating expenses  44,815   60,916  \\nOperating income  $ 1,312   $ 3,450  \\n    \\nInternational     \\nNet sales $ 19,106   $ 30,649  \\nOperating expenses  19,504   29,397  \\nOperating income (loss)  $ (398)  $ 1,252  \\n    \\nAWS    \\nNet sales $ 10,219   $ 13,503  \\nOperating expenses  7,144   9,340  \\nOperating income  $ 3,075   $ 4,163  \\n    \\nConsolidated     \\nNet sales $ 75,452   $ 108,518  \\nOperating expenses  71,463   99,653  \\nOperating income  3,989   8,865  \\nTotal non -operating income (expense)  (606)  1,403  \\nProvision for income taxes  (744)  (2,156) \\nEquity-method investment activity, net of tax  (104)  (5) \\nNet income  $ 2,535   $ 8,107  \\n    \\nSegment Highlights:     \\nY/Y net sales growth:     \\nNorth America  29 %  40 % \\nInternational  18   60  \\nAWS 33   32  \\nConsolidated  26   44  \\nNet sales mix:     \\nNorth America  61 %  59 % \\nInternational  25   28  \\nAWS 14   13  \\nConsolidated  100 %  100 %', metadata={'company': 'Amazon', 'page': 14, 'quarter': 'q1', 'source': 'Amazon-Q1-2021-Earnings-Release.pdf', 'year': 2021}), Document(page_content='sellers, all of which are uncertain. This guidance also assumes the impacts on consumer demand and spending patterns, \\nincluding impacts due to concerns over the current economic outlook, will be in line with those experienced during the first \\nquarter of 2021 to date, and the additional assumptions set forth below. However, it is not possible to determine the ultimate \\nimpact on our operations for the first quarter of 2021, or whether other currently unanticipated direct or indirect consequences \\nof the pandemic are reasonably likely to materially affect our operations. \\nFirst Quarter 2021 Guidance \\n• Net sales are expected to be between $100.0 billion and $106.0 billion, or to grow between 33% and 40% compared \\nwith first quarter 2020. This guidance anticipates a favorable impact of approximately 300 basis points from foreign \\nexchange rates.  \\n• Operating income is expected to be between $3.0 billion and $6.5 billion, compared with $4.0 billion in first quarter \\n2020. This guidance assumes approximately $2.0 billion of costs related to COVID-19.  \\n• This guidance assumes, among other things, that no additional business acquisitions, investments, restructurings, or \\nlegal settlements are concluded. \\n \\nA conference call will be webcast live today at 2:30 p.m. PT/5:30 p.m. ET, and will be available for at least three months at \\namazon.com/ir. This call will contain forward-looking statements and other material information regarding the Company’s', metadata={'company': 'Amazon', 'page': 8, 'quarter': 'q4', 'source': 'Amazon-Q4-2020-Earnings-Release.pdf', 'year': 2020}), Document(page_content='q1 2022 Q1-2022-Amazon-Earnings-Release AMAZON.COM ANNOUNCES FIRST QUARTER RESULTS\\nSEATTLE—(BUSINESS WIRE) April 28, 2022—Amazon.com, Inc. (NASDAQ: AMZN) today announced financial results \\nfor its first quarter ended March 31, 2022. \\n•Operating cash flow decreased 41% to $39.3 billion for the trailing twelve months, compared with $67.2 billion for\\nthe trailing twelve months ended March 31, 2021.\\n•Free cash flow decreased to an outflow of $18.6 billion for the trailing twelve months, compared with an inflow of\\n$26.4 billion for the trailing twelve months ended March 31, 2021.\\n•Free cash flow less principal repayments of finance leases and financing obligations decreased to an outflow of\\n$29.3 billion for the trailing twelve months, compared with an inflow of $14.9 billion for the trailing twelve months\\nended March 31, 2021.\\n•Free cash flow less equipment finance leases and principal repayments of all other finance leases and financing\\nobligations decreased to an outflow of $22.3 billion for the trailing twelve months, compared with an inflow of $16.8\\nbillion for the trailing twelve months ended March 31, 2021.\\n•Common shares outstanding plus shares underlying stock-based awards totaled 523 million on March 31, 2022,\\ncompared with 519 million one year ago.\\n•Net sales increased 7% to $116.4 billion in the first quarter, compared with $108.5 billion in first quarter 2021.', metadata={'company': 'Amazon', 'page': 0, 'quarter': 'q1', 'source': 'Q1-2022-Amazon-Earnings-Release.pdf', 'year': 2022}), Document(page_content='q1 2021 Amazon-Q1-2021-Earnings-Release AMAZON.COM, INC. \\nConsolidated Statements of Comprehensive Income  \\n(in millions) \\n(unaudited) \\n   Three Months Ended  \\nMarch 31, \\n  2020  2021 \\n      \\nNet income  $ 2,535   $ 8,107  \\nOther comprehensive income (loss):     \\nForeign currency translation adjustments, net of tax of $21 and $13 (874)  (374)  \\nNet change in unrealized gains (losses) on available -for-sale debt securities:     \\nUnrealized gains (losses), net of tax of $12 and $30 (203)  (98)  \\nReclassification adjustment for losses (gains) included in “Other income (expense), net,” \\nnet of tax of $0 and $4 —   (14)  \\nNet unrealized gains (losses) on available -for-sale debt securities (203)  (112)  \\nTotal other comprehensive income (loss)  (1,077)  (486)  \\nComprehensive income  $ 1,458   $ 7,621', metadata={'company': 'Amazon', 'page': 13, 'quarter': 'q1', 'source': 'Amazon-Q1-2021-Earnings-Release.pdf', 'year': 2021}), Document(page_content='Excluding the $582 million  unfavorable  impact from year-over-year changes in foreign exchange rates throughout the \\nquarter, net sales increased  41% compared with second  quarter 2019 .\\n•Operating income  increased  to $5.8 billion  in the second  quarter, compared with operating income  of $3.1 billion  in \\nsecond  quarter 2019 . \\n•Net income  increased  to $5.2 billion  in the second  quarter, or $10.30  per diluted share, compared with net income  of \\n$2.6 billion , or $5.22  per diluted share, in second  quarter 2019 . \\n“This was another highly unusual quarter, and I couldn’t be more proud of and grateful to our employees around the globe,” \\nsaid Jeff Bezos, Amazon founder and CEO. “As expected, we spent over $4 billion on incremental COVID-19-related costs in \\nthe quarter to help keep employees safe and deliver products to customers in this time of high demand—purchasing personal \\nprotective equipment, increasing cleaning of our facilities, following new safety process paths, adding new backup family care \\nbenefits, and paying a special thank you bonus of over $500 million to front-line employees and delivery partners. We’ve \\ncreated over 175,000 new jobs since March and are in the process of bringing 125,000 of these employees into regular, full-\\ntime positions. And third-party sales again grew faster this quarter than Amazon’s first-party sales. Lastly, even in this', metadata={'company': 'Amazon', 'page': 0, 'quarter': 'q2', 'source': 'Q2-2020-Amazon-Earnings-Release.pdf', 'year': 2020})]}\n",
            "{'query': 'What is the revenue for Q1 2021?', 'result': 'The revenue for Q1 2021 is $108.5 billion.', 'source_documents': [Document(page_content='• Net sales are expected to be between $100.0 billion and $106.0 billion, or to grow between 33% and 40% compared \\nwith first quarter 2020. This guidance anticipates a favorable impact of approximately 300 basis points from foreign \\nexchange rates.  \\n• Operating income is expected to be between $3.0 billion and $6.5 billion, compared with $4.0 billion in first quarter \\n2020. This guidance assumes approximately $2.0 billion of costs related to COVID-19.', metadata={'company': 'Amazon', 'page': 8, 'quarter': 'q4', 'source': 'Amazon-Q4-2020-Earnings-Release.pdf', 'year': 2020}), Document(page_content='Net sales $ 108,518', metadata={'company': 'Amazon', 'page': 14, 'quarter': 'q1', 'source': 'Amazon-Q1-2021-Earnings-Release.pdf', 'year': 2021}), Document(page_content='Net sales  increased 44% to $108.5 billion in the first quarter, compared with $75.5 billion in first quarter 2020.', metadata={'company': 'Amazon', 'page': 0, 'quarter': 'q1', 'source': 'Amazon-Q1-2021-Earnings-Release.pdf', 'year': 2021}), Document(page_content='•Net sales increased 7% to $116.4 billion in the first quarter, compared with $108.5 billion in first quarter 2021.\\nExcluding the $1.8 billion unfavorable impact from year-over-year changes in foreign exchange rates throughout the\\nquarter, net sales increased 9% compared with first quarter 2021.', metadata={'company': 'Amazon', 'page': 0, 'quarter': 'q1', 'source': 'Q1-2022-Amazon-Earnings-Release.pdf', 'year': 2022})]}\n",
            "{'question': 'what is the revenue for q1 2021?', 'answer': 'The revenue for Q1 2021 was $108,518 million.\\n', 'sources': 'Amazon-Q1-2021-Earnings-Release.pdf', 'source_documents': [Document(page_content='Operating income -- TTM  Y/Y gro wth (decline), excluding F/X  16 % (6)% 11 % 36 % 54  % 93 % N/A \\nOperating margin -- TTM % of WW net sales  5.2 % 4.8 % 5.2 % 5.7 % 5.9  % 6.6 % N/A \\nNet income $ 3,268  $ 2,535   $ 5,243  $ 6,331  $ 7,222  $ 8,107  220  % \\nNet income per diluted share  $ 6.47  $ 5.01   $ 10.30  $ 12.37  $ 14.09  $ 15.79  215  % \\nNet income -- TTM $ 11,588  $ 10,563   $ 13,180  $ 17,377  $ 21,331  $ 26,903  155  % \\nNet income per diluted share -- TTM $ 23.01  $ 20.93   $ 26.04  $ 34.21  $ 41.83  $ 52.59  151  % \\n______________________________ \\n(1) For the twelve months ended March 31, 2020 and 2021, this amount relates to equipment included in “Property and equipment acquired under finance leases” of $13,262 \\nmillion and $11,489 million. \\n(2) For the twelve months ended March 31, 2020 and 2021, this amount relates to property included in “Principal repayments of finance leases” of $10,013 million and \\n$11,448 million. \\n(3) Free cash flow is cash flow from operations reduced by “Purchases of property and equipment, net of proceeds from sales and incentives.” \\n(4) Free cash flow less principal repayments of finance leases and financing obligations is free cash flow reduced by “Principal repayments of finance leases” and “Principal \\nrepayments of financing obligations.”', metadata={'company': 'Amazon', 'page': 16, 'quarter': 'q1', 'source': 'Amazon-Q1-2021-Earnings-Release.pdf', 'year': 2021}), Document(page_content='q1 2021 Amazon-Q1-2021-Earnings-Release AMAZON.COM, INC. \\nSegment Information \\n(in millions) \\n(unaudited)   \\n   Three Months Ended  \\nMarch 31, \\n  2020  2021 \\n      \\nNorth America     \\nNet sales $ 46,127   $ 64,366  \\nOperating expenses  44,815   60,916  \\nOperating income  $ 1,312   $ 3,450  \\n    \\nInternational     \\nNet sales $ 19,106   $ 30,649  \\nOperating expenses  19,504   29,397  \\nOperating income (loss)  $ (398)  $ 1,252  \\n    \\nAWS    \\nNet sales $ 10,219   $ 13,503  \\nOperating expenses  7,144   9,340  \\nOperating income  $ 3,075   $ 4,163  \\n    \\nConsolidated     \\nNet sales $ 75,452   $ 108,518  \\nOperating expenses  71,463   99,653  \\nOperating income  3,989   8,865  \\nTotal non -operating income (expense)  (606)  1,403  \\nProvision for income taxes  (744)  (2,156) \\nEquity-method investment activity, net of tax  (104)  (5) \\nNet income  $ 2,535   $ 8,107  \\n    \\nSegment Highlights:     \\nY/Y net sales growth:     \\nNorth America  29 %  40 % \\nInternational  18   60  \\nAWS 33   32  \\nConsolidated  26   44  \\nNet sales mix:     \\nNorth America  61 %  59 % \\nInternational  25   28  \\nAWS 14   13  \\nConsolidated  100 %  100 %', metadata={'company': 'Amazon', 'page': 14, 'quarter': 'q1', 'source': 'Amazon-Q1-2021-Earnings-Release.pdf', 'year': 2021}), Document(page_content='q1 2021 Amazon-Q1-2021-Earnings-Release AMAZON.COM, INC. \\nConsolidated Statements of Operations \\n(in millions, except per share data) \\n(unaudited) \\n   Three Months Ended  \\nMarch 31, \\n  2020  2021 \\n      \\nNet product sales  $ 41,841   $ 57,491  \\nNet service sales  33,611   51,027   \\nTotal net sales  75,452   108,518   \\nOperating expenses:     \\nCost of sales  44,257   62,403   \\nFulfillment  11,531   16,530   \\nTechnology and content  9,325   12,488   \\nMarketing 4,828   6,207   \\nGeneral and administrative  1,452   1,987   \\nOther operating expense (income), net  70   38   \\nTotal operating expenses  71,463   99,653   \\nOperating income  3,989   8,865   \\nInterest income  202   105   \\nInterest expense  (402)  (399)  \\nOther income (expense), net  (406)  1,697   \\nTotal non-operating income (expense)  (606)  1,403   \\nIncome before income taxes  3,383   10,268   \\nProvision for income taxes  (744)  (2,156)  \\nEquity-method investment activity, net of tax  (104)  (5)  \\nNet income  $ 2,535   $ 8,107  \\nBasic earnings per share  $ 5.09   $ 16.09  \\nDiluted earnings per share  $ 5.01   $ 15.79  \\nWeighted-average shares used in computation of earnings per share:     \\nBasic 498   504   \\nDiluted 506   513', metadata={'company': 'Amazon', 'page': 12, 'quarter': 'q1', 'source': 'Amazon-Q1-2021-Earnings-Release.pdf', 'year': 2021}), Document(page_content='Excluding the $2.1 billion favorable impact from year-over-year changes in foreign exchange rates throughout the \\nquarter, net sales increased 41% compared with first quarter 2020.  \\n• Operating income  increased to $8.9 billion in the first quarter, compared with operating income of $4.0 billion in first \\nquarter 2020.  \\n• Net income increased to $8.1 billion in the first quarter, or $15.79 per diluted share, compared with net income of $2.5 \\nbillion, or $5.01 per diluted share, in first quarter 2020.  \\n \\n“Two of our kids are now 10 and 15 years old—and after years of being nurtured, they’re growing up fast and coming into their \\nown,” said Jeff Bezos, Amazon founder and CEO. “As Prime Video turns 10, over 175 million Prime members have streamed \\nshows and movies in the past year, and streaming hours are up more than 70% year over year. Amazon Studios received a \\nrecord 12 Academy Award nominations and two wins. Upcoming originals include Tom Clancy’s Without Remorse , The \\nTomorrow War , The Underground Railroad , and much more. In just 15 years, AWS has become a $54 billion annual sales run \\nrate business competing against the world’s largest technology companies, and its growth is accelerating—up 32% year over \\nyear. Companies from Airbnb to McDonald’s to Volkswagen come to AWS because we offer what is by far the broadest set of \\ntools and services available, and we continue to invent relentlessly on their behalf. We love Prime Video and AWS, and we’re', metadata={'company': 'Amazon', 'page': 0, 'quarter': 'q1', 'source': 'Amazon-Q1-2021-Earnings-Release.pdf', 'year': 2021})]}\n",
            "{'query': 'What is the revenue for Q1 2021?', 'result': 'The revenue for Q1 2021 is $108,518 million.', 'source_documents': [Document(page_content='sellers, all of which are uncertain. This guidance also assumes the impacts on consumer demand and spending patterns, \\nincluding impacts due to concerns over the current economic outlook, will be in line with those experienced during the first \\nquarter of 2021 to date, and the additional assumptions set forth below. However, it is not possible to determine the ultimate \\nimpact on our operations for the first quarter of 2021, or whether other currently unanticipated direct or indirect consequences \\nof the pandemic are reasonably likely to materially affect our operations. \\nFirst Quarter 2021 Guidance \\n• Net sales are expected to be between $100.0 billion and $106.0 billion, or to grow between 33% and 40% compared \\nwith first quarter 2020. This guidance anticipates a favorable impact of approximately 300 basis points from foreign \\nexchange rates.  \\n• Operating income is expected to be between $3.0 billion and $6.5 billion, compared with $4.0 billion in first quarter \\n2020. This guidance assumes approximately $2.0 billion of costs related to COVID-19.  \\n• This guidance assumes, among other things, that no additional business acquisitions, investments, restructurings, or \\nlegal settlements are concluded. \\n \\nA conference call will be webcast live today at 2:30 p.m. PT/5:30 p.m. ET, and will be available for at least three months at \\namazon.com/ir. This call will contain forward-looking statements and other material information regarding the Company’s', metadata={'company': 'Amazon', 'page': 8, 'quarter': 'q4', 'source': 'Amazon-Q4-2020-Earnings-Release.pdf', 'year': 2020}), Document(page_content='sellers, all of which are uncertain. This guidance also assumes the impacts on consumer demand and spending patterns, \\nincluding impacts due to concerns over the current economic outlook, will be in line with those experienced during the first \\nquarter of 2021 to date, and the additional assumptions set forth below. However, it is not possible to determine the ultimate \\nimpact on our operations for the first quarter of 2021, or whether other currently unanticipated direct or indirect consequences \\nof the pandemic are reasonably likely to materially affect our operations. \\nFirst Quarter 2021 Guidance \\n• Net sales are expected to be between $100.0 billion and $106.0 billion, or to grow between 33% and 40% compared \\nwith first quarter 2020. This guidance anticipates a favorable impact of approximately 300 basis points from foreign \\nexchange rates.  \\n• Operating income is expected to be between $3.0 billion and $6.5 billion, compared with $4.0 billion in first quarter \\n2020. This guidance assumes approximately $2.0 billion of costs related to COVID-19.  \\n• This guidance assumes, among other things, that no additional business acquisitions, investments, restructurings, or \\nlegal settlements are concluded. \\n \\nA conference call will be webcast live today at 2:30 p.m. PT/5:30 p.m. ET, and will be available for at least three months at \\namazon.com/ir. This call will contain forward-looking statements and other material information regarding the Company’s', metadata={'company': 'Amazon', 'page': 8, 'quarter': 'q4', 'source': 'Amazon-Q4-2020-Earnings-Release.pdf', 'year': 2020}), Document(page_content='sellers, all of which are uncertain. This guidance also assumes the impacts on consumer demand and spending patterns, \\nincluding impacts due to concerns over the current economic outlook, will be in line with those experienced during the second \\nquarter of 2021 to date, and the additional assumptions set forth below. However, it is not possible to determine the ultimate \\nimpact on our operations for the second quarter of 2021, or whether other currently unanticipated direct or indirect \\nconsequences of the pandemic are reasonably likely to materially affect our operations. \\nSecond Quarter 2021 Guidance \\n• Net sales are expected to be between $110.0 billion and $116.0 billion, or to grow between 24% and 30% compared \\nwith second quarter 2020. This guidance anticipates a favorable impact of approximately 200 basis points from foreign \\nexchange rates.  \\n• Operating income is expected to be between $4.5 billion and $8.0 billion, compared with $5.8 billion in second quarter \\n2020. This guidance assumes approximately $1.5 billion of costs related to COVID-19.  \\n• This guidance assumes that Prime Day occurs in second quarter 2021. \\n• This guidance assumes, among other things, that no additional business acquisitions, investments, restructurings, or \\nlegal settlements are concluded. \\n \\nA conference call will be webcast live today at 2:30 p.m. PT/5:30 p.m. ET, and will be available for at least three months at', metadata={'company': 'Amazon', 'page': 9, 'quarter': 'q1', 'source': 'Amazon-Q1-2021-Earnings-Release.pdf', 'year': 2021}), Document(page_content='q1 2021 Amazon-Q1-2021-Earnings-Release AMAZON.COM, INC. \\nSegment Information \\n(in millions) \\n(unaudited)   \\n   Three Months Ended  \\nMarch 31, \\n  2020  2021 \\n      \\nNorth America     \\nNet sales $ 46,127   $ 64,366  \\nOperating expenses  44,815   60,916  \\nOperating income  $ 1,312   $ 3,450  \\n    \\nInternational     \\nNet sales $ 19,106   $ 30,649  \\nOperating expenses  19,504   29,397  \\nOperating income (loss)  $ (398)  $ 1,252  \\n    \\nAWS    \\nNet sales $ 10,219   $ 13,503  \\nOperating expenses  7,144   9,340  \\nOperating income  $ 3,075   $ 4,163  \\n    \\nConsolidated     \\nNet sales $ 75,452   $ 108,518  \\nOperating expenses  71,463   99,653  \\nOperating income  3,989   8,865  \\nTotal non -operating income (expense)  (606)  1,403  \\nProvision for income taxes  (744)  (2,156) \\nEquity-method investment activity, net of tax  (104)  (5) \\nNet income  $ 2,535   $ 8,107  \\n    \\nSegment Highlights:     \\nY/Y net sales growth:     \\nNorth America  29 %  40 % \\nInternational  18   60  \\nAWS 33   32  \\nConsolidated  26   44  \\nNet sales mix:     \\nNorth America  61 %  59 % \\nInternational  25   28  \\nAWS 14   13  \\nConsolidated  100 %  100 %', metadata={'company': 'Amazon', 'page': 14, 'quarter': 'q1', 'source': 'Amazon-Q1-2021-Earnings-Release.pdf', 'year': 2021})]}\n"
          ]
        }
      ]
    },
    {
      "cell_type": "code",
      "source": [],
      "metadata": {
        "id": "_BoKynJ779NC"
      },
      "execution_count": null,
      "outputs": []
    }
  ]
}